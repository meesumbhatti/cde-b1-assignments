{
 "cells": [
  {
   "cell_type": "markdown",
   "metadata": {},
   "source": [
    "# Part -1 Python Basics (Variables)"
   ]
  },
  {
   "cell_type": "markdown",
   "metadata": {},
   "source": [
    "1. Print Your Name with your Father name and Date of birth using suitable escape sequence charactor"
   ]
  },
  {
   "cell_type": "code",
   "execution_count": 1,
   "metadata": {},
   "outputs": [
    {
     "name": "stdin",
     "output_type": "stream",
     "text": [
      "Enter your Name :  Meesum Abbas\n",
      "Enter your Father Name :  Javed Bhatti\n",
      "Enter your DOB :  05-04-1994\n"
     ]
    },
    {
     "data": {
      "text/plain": [
       "'05-04-1994'"
      ]
     },
     "execution_count": 1,
     "metadata": {},
     "output_type": "execute_result"
    }
   ],
   "source": [
    "input(\"Enter your Name : \")\n",
    "input(\"Enter your Father Name : \")\n",
    "input(\"Enter your DOB : \")"
   ]
  },
  {
   "cell_type": "markdown",
   "metadata": {},
   "source": [
    "2. Write your small bio using variables and print it using print function"
   ]
  },
  {
   "cell_type": "code",
   "execution_count": 30,
   "metadata": {},
   "outputs": [
    {
     "name": "stdin",
     "output_type": "stream",
     "text": [
      "Enter You Bio :  Name is Meesum, Im working in IT Frim, and i have BSCS Degree, currently learning CDE from SMIT \n"
     ]
    },
    {
     "name": "stdout",
     "output_type": "stream",
     "text": [
      "Name is Meesum, Im working in IT Frim, and i have BSCS Degree, currently learning CDE from SMIT \n"
     ]
    }
   ],
   "source": [
    "Bio = input(\"Enter You Bio : \")\n",
    "print(Bio)"
   ]
  },
  {
   "cell_type": "markdown",
   "metadata": {},
   "source": [
    "3. Write a program in which use all the operators we can use in Python"
   ]
  },
  {
   "cell_type": "code",
   "execution_count": 42,
   "metadata": {},
   "outputs": [
    {
     "name": "stdout",
     "output_type": "stream",
     "text": [
      "Sum of 2 and 8  :  10\n",
      "Sub of 2 and 8  :  -6\n",
      "Devision of 2 and 8  :  0.25\n",
      "Multi of 2 and 8  :  16\n",
      "Modulus of 2 and 8 :  2\n",
      "Expot of 2 and 6 :  256\n",
      "Floor Division of 2 and 8 :  0\n"
     ]
    }
   ],
   "source": [
    "num1 = 2\n",
    "num2 = 8\n",
    "num3 = 6\n",
    "print(f\"Sum of {num1} and {num2}  : \", num1 + num2 )\n",
    "print(f\"Sub of {num1} and {num2}  : \", num1 - num2 )\n",
    "print(f\"Devision of {num1} and {num2}  : \", num1 / num2 )\n",
    "print(f\"Multi of {num1} and {num2}  : \", num1 * num2 )\n",
    "print(f\"Modulus of {num1} and {num2} : \", num1 % num2 )\n",
    "print(f\"Expot of {num1} and {num3} : \", num1 ** num2 )\n",
    "print(f\"Floor Division of {num1} and {num2} : \", num1 // num2 )"
   ]
  },
  {
   "cell_type": "markdown",
   "metadata": {},
   "source": [
    "4. Completes the following steps of small task:\n",
    "    - Mention Marks of English , Islamiat and Maths out of 100 in 3 different variables\n",
    "    - Mention Variable of Total Marks and assign 300 to it\n",
    "    - Calculate Percentage"
   ]
  },
  {
   "cell_type": "code",
   "execution_count": 64,
   "metadata": {},
   "outputs": [
    {
     "name": "stdout",
     "output_type": "stream",
     "text": [
      "English mark :  77\n",
      "English mark :  88\n",
      "English mark :  89\n",
      "total 3 subjects mark :  254\n",
      "Your percentage is :  84.67 %\n"
     ]
    }
   ],
   "source": [
    "English = 77 \n",
    "Islamiat = 88 \n",
    "Maths = 89\n",
    "total = English + Islamiat + Maths\n",
    "outof = 300\n",
    "percentage = round(( total / outof ) * 100,2)\n",
    "print(\"English mark : \",English)\n",
    "print(\"English mark : \",Islamiat)\n",
    "print(\"English mark : \",Maths)\n",
    "print(\"total 3 subjects mark : \",total)\n",
    "print(\"Your percentage is : \",percentage, \"%\")\n",
    "\n"
   ]
  },
  {
   "cell_type": "markdown",
   "metadata": {},
   "source": [
    "# Part -2 Python Basics (Conditional Statements)"
   ]
  },
  {
   "cell_type": "markdown",
   "metadata": {},
   "source": [
    "1) A company decided to give bonus of 5% to employee if his/her year of service is more than 5 years.\n",
    "Ask user for their salary and year of service and print the net bonus amount."
   ]
  },
  {
   "cell_type": "code",
   "execution_count": 92,
   "metadata": {},
   "outputs": [
    {
     "name": "stdout",
     "output_type": "stream",
     "text": [
      "Company decided to give bonus of 5% to employee if his/her year of service is more than 5 years\n",
      "\n"
     ]
    },
    {
     "name": "stdin",
     "output_type": "stream",
     "text": [
      "Enter your total years of service :  4\n",
      "Enter your salary :  166000\n"
     ]
    },
    {
     "name": "stdout",
     "output_type": "stream",
     "text": [
      "Your Service is below than 5 years\n"
     ]
    }
   ],
   "source": [
    "print(\"Company decided to give bonus of 5% to employee if his/her year of service is more than 5 years\\n\")\n",
    "service = int(input(\"Enter your total years of service : \"))\n",
    "salary = int(input(\"Enter your salary : \"))\n",
    "bounus = (salary / 100) * 5\n",
    "if service >= 5:\n",
    "    print(\"your net bonus amount is : \", bounus)\n",
    "else:\n",
    "    print(\"Your Service is below than 5 years\")\n"
   ]
  },
  {
   "cell_type": "markdown",
   "metadata": {},
   "source": [
    "\n",
    "2) Write a program to check whether a person is eligible for voting or not. (accept age from user) if age is greater than 17 eligible otherwise not eligible"
   ]
  },
  {
   "cell_type": "code",
   "execution_count": 98,
   "metadata": {},
   "outputs": [
    {
     "name": "stdin",
     "output_type": "stream",
     "text": [
      "Enter you age :  18\n"
     ]
    },
    {
     "name": "stdout",
     "output_type": "stream",
     "text": [
      "you are eligible for voting \n"
     ]
    }
   ],
   "source": [
    "age = int(input(\"Enter you age : \"))\n",
    "\n",
    "if age > 17 :\n",
    "    print(\"you are eligible for voting \")\n",
    "else : \n",
    "    print(\"not eligible for voting \")\n",
    "    "
   ]
  },
  {
   "cell_type": "markdown",
   "metadata": {},
   "source": [
    "\n",
    "3) Write a program to check whether a number entered by user is even or odd."
   ]
  },
  {
   "cell_type": "code",
   "execution_count": 106,
   "metadata": {},
   "outputs": [
    {
     "name": "stdin",
     "output_type": "stream",
     "text": [
      "Enter the number  7\n"
     ]
    },
    {
     "name": "stdout",
     "output_type": "stream",
     "text": [
      "you num is odd \n"
     ]
    }
   ],
   "source": [
    "num = int(input(\"Enter the number \"))\n",
    "if num % 2 == 0:\n",
    "    print(\"you num is even \")\n",
    "else:\n",
    "    print(\"you num is odd \")"
   ]
  },
  {
   "cell_type": "markdown",
   "metadata": {},
   "source": [
    "4) Write a program to check whether a number is divisible by 7 or not.\n",
    "Show Answer"
   ]
  },
  {
   "cell_type": "code",
   "execution_count": 110,
   "metadata": {
    "scrolled": true
   },
   "outputs": [
    {
     "name": "stdin",
     "output_type": "stream",
     "text": [
      "Enter the number  6\n"
     ]
    },
    {
     "name": "stdout",
     "output_type": "stream",
     "text": [
      "num is not divisible by 7\n"
     ]
    }
   ],
   "source": [
    "num = int(input(\"Enter the number \"))\n",
    "if num / 7 == 0:\n",
    "    print(\"num is divisible by 7 \")\n",
    "else:\n",
    "    print(\"num is not divisible by 7\")"
   ]
  },
  {
   "cell_type": "markdown",
   "metadata": {},
   "source": [
    "5) Write a program to display \n",
    "\"Hello\" if a number entered by user is a multiple of five , otherwise print \"Bye\"."
   ]
  },
  {
   "cell_type": "code",
   "execution_count": 113,
   "metadata": {},
   "outputs": [
    {
     "name": "stdin",
     "output_type": "stream",
     "text": [
      "Enter the number  5\n"
     ]
    },
    {
     "name": "stdout",
     "output_type": "stream",
     "text": [
      "Hello \n"
     ]
    }
   ],
   "source": [
    "num = int(input(\"Enter the number \"))\n",
    "if num % 5 == 0:\n",
    "        print(\"Hello \")\n",
    "else:\n",
    "    print(\"Bye\")"
   ]
  },
  {
   "cell_type": "markdown",
   "metadata": {},
   "source": [
    "7) Write a program to display the last digit of a number.\n"
   ]
  },
  {
   "cell_type": "code",
   "execution_count": 115,
   "metadata": {},
   "outputs": [
    {
     "name": "stdin",
     "output_type": "stream",
     "text": [
      "Enter the number  669\n"
     ]
    },
    {
     "name": "stdout",
     "output_type": "stream",
     "text": [
      "last digit of num is :  9\n"
     ]
    }
   ],
   "source": [
    "num = int(input(\"Enter the number \"))\n",
    "last_digit = num % 10\n",
    "print(\"last digit of num is : \", last_digit)"
   ]
  },
  {
   "cell_type": "markdown",
   "metadata": {},
   "source": [
    "9) Take values of length and breadth of a rectangle from user and print if it is square or rectangle."
   ]
  },
  {
   "cell_type": "code",
   "execution_count": 124,
   "metadata": {},
   "outputs": [
    {
     "name": "stdin",
     "output_type": "stream",
     "text": [
      "Enter the length:  6\n",
      "Enter the breadth:  2\n"
     ]
    },
    {
     "name": "stdout",
     "output_type": "stream",
     "text": [
      "It's a rectangle\n"
     ]
    }
   ],
   "source": [
    "length = int(input(\"Enter the length: \"))  # Corrected parentheses\n",
    "breadth = int(input(\"Enter the breadth: \"))  # Corrected parentheses\n",
    "if length == breadth:\n",
    "    print(\"It's a square\")\n",
    "else:\n",
    "    print(\"It's a rectangle\")"
   ]
  },
  {
   "cell_type": "markdown",
   "metadata": {},
   "source": [
    "10) Take two int values from user and print greatest among them."
   ]
  },
  {
   "cell_type": "code",
   "execution_count": 126,
   "metadata": {},
   "outputs": [
    {
     "name": "stdin",
     "output_type": "stream",
     "text": [
      "Enter the first number:  5\n",
      "Enter the second number:  6\n"
     ]
    },
    {
     "name": "stdout",
     "output_type": "stream",
     "text": [
      "The greatest number is: 6\n"
     ]
    }
   ],
   "source": [
    "num1 = int(input(\"Enter the first number: \"))  # Take first integer input\n",
    "num2 = int(input(\"Enter the second number: \"))  # Take second integer input\n",
    "\n",
    "if num1 > num2:\n",
    "    print(\"The greatest number is:\", num1)\n",
    "elif num2 > num1:\n",
    "    print(\"The greatest number is:\", num2)\n",
    "else:\n",
    "    print(\"Both numbers are equal.\")"
   ]
  },
  {
   "cell_type": "markdown",
   "metadata": {},
   "source": [
    "11) A shop will give discount of 10% if the cost of purchased quantity is more than 1000.\n",
    "Ask user for quantity\n",
    "Suppose, one unit will cost 100.\n",
    "Judge and print total cost for user."
   ]
  },
  {
   "cell_type": "code",
   "execution_count": 128,
   "metadata": {},
   "outputs": [
    {
     "name": "stdin",
     "output_type": "stream",
     "text": [
      "Enter the quantity:  6\n"
     ]
    },
    {
     "name": "stdout",
     "output_type": "stream",
     "text": [
      "No discount applied.\n",
      "The total cost is: 600\n"
     ]
    }
   ],
   "source": [
    "quantity = int(input(\"Enter the quantity: \"))  # Take quantity as input\n",
    "unit_price = 100  # Cost of one unit\n",
    "\n",
    "# Calculate total cost without discount\n",
    "total_cost = quantity * unit_price\n",
    "\n",
    "# Check if the total cost exceeds 1000 to apply discount\n",
    "if total_cost > 1000:\n",
    "    discount = total_cost * 0.10  # Calculate 10% discount\n",
    "    total_cost -= discount  # Deduct discount from total cost\n",
    "    print(\"You got a 10% discount!\")\n",
    "else:\n",
    "    print(\"No discount applied.\")\n",
    "\n",
    "print(\"The total cost is:\", total_cost)\n"
   ]
  },
  {
   "cell_type": "markdown",
   "metadata": {},
   "source": [
    "12) A school has following rules for grading system:\n",
    "\n",
    "a. Below 25 - F\n",
    "\n",
    "b. 25 to 45 - E\n",
    "\n",
    "c. 45 to 50 - D\n",
    "\n",
    "d. 50 to 60 - C\n",
    "\n",
    "e. 60 to 80 - B\n",
    "\n",
    "f. Above 80 - A\n",
    "\n",
    "Ask user to enter marks and print the corresponding grade."
   ]
  },
  {
   "cell_type": "code",
   "execution_count": 130,
   "metadata": {},
   "outputs": [
    {
     "name": "stdin",
     "output_type": "stream",
     "text": [
      "Enter your marks:  55\n"
     ]
    },
    {
     "name": "stdout",
     "output_type": "stream",
     "text": [
      "Your grade is: C\n"
     ]
    }
   ],
   "source": [
    "marks = int(input(\"Enter your marks: \"))  \n",
    "if marks < 25:\n",
    "    grade = \"F\"\n",
    "elif 25 <= marks < 45:\n",
    "    grade = \"E\"\n",
    "elif 45 <= marks < 50:\n",
    "    grade = \"D\"\n",
    "elif 50 <= marks < 60:\n",
    "    grade = \"C\"\n",
    "elif 60 <= marks < 80:\n",
    "    grade = \"B\"\n",
    "else:  # Marks 80 or above\n",
    "    grade = \"A\"\n",
    "\n",
    "print(\"Your grade is:\", grade)"
   ]
  },
  {
   "cell_type": "markdown",
   "metadata": {},
   "source": [
    "14)A student will not be allowed to sit in exam if his/her attendence is less than 75%.\n",
    "\n",
    "Take following input from user\n",
    "\n",
    "- Number of classes held\n",
    "\n",
    "- Number of classes attended.\n",
    "\n",
    "And print\n",
    "\n",
    "- percentage of class attended\n",
    "\n",
    "- Is student is allowed to sit in exam or not.\n"
   ]
  },
  {
   "cell_type": "code",
   "execution_count": 136,
   "metadata": {},
   "outputs": [
    {
     "name": "stdin",
     "output_type": "stream",
     "text": [
      "Enter the number of classes held:  66\n",
      "Enter the number of classes attended:  5\n"
     ]
    },
    {
     "name": "stdout",
     "output_type": "stream",
     "text": [
      "Percentage of classes attended: 7.58%\n",
      "The student is NOT allowed to sit in the exam.\n"
     ]
    }
   ],
   "source": [
    "classes_held = int(input(\"Enter the number of classes held: \"))\n",
    "classes_attended = int(input(\"Enter the number of classes attended: \"))\n",
    "\n",
    "# Calculate the percentage of classes attended\n",
    "attendance_percentage = (classes_attended / classes_held) * 100\n",
    "\n",
    "# Print the attendance percentage\n",
    "print(f\"Percentage of classes attended: {attendance_percentage:.2f}%\")\n",
    "\n",
    "# Check if the student is allowed to sit in the exam\n",
    "if attendance_percentage >= 75:\n",
    "    print(\"The student is allowed to sit in the exam.\")\n",
    "else:\n",
    "    print(\"The student is NOT allowed to sit in the exam.\")"
   ]
  },
  {
   "cell_type": "markdown",
   "metadata": {},
   "source": [
    "15) Modify the above question to allow student to sit if he/she has medical cause. Ask user if he/she has medical cause or not ( 'Y' or 'N' ) and print accordingly."
   ]
  },
  {
   "cell_type": "code",
   "execution_count": 142,
   "metadata": {},
   "outputs": [
    {
     "name": "stdin",
     "output_type": "stream",
     "text": [
      "Enter the number of classes held:  55\n",
      "Enter the number of classes attended:  9\n"
     ]
    },
    {
     "name": "stdout",
     "output_type": "stream",
     "text": [
      "Percentage of classes attended: 16.36%\n"
     ]
    },
    {
     "name": "stdin",
     "output_type": "stream",
     "text": [
      "Do you have a medical cause? (Y/N):  y\n"
     ]
    },
    {
     "name": "stdout",
     "output_type": "stream",
     "text": [
      "The student is allowed to sit in the exam due to a medical cause.\n"
     ]
    }
   ],
   "source": [
    "classes_held = int(input(\"Enter the number of classes held: \"))\n",
    "if classes_held <= 0:\n",
    "    print(\"The number of classes held must be greater than zero.\")\n",
    "else:\n",
    "    classes_attended = int(input(\"Enter the number of classes attended: \"))\n",
    "    if classes_attended > classes_held:\n",
    "        print(\"Classes attended cannot exceed classes held.\")\n",
    "    else:\n",
    "     \n",
    "        attendance_percentage = (classes_attended / classes_held) * 100\n",
    "        print(f\"Percentage of classes attended: {attendance_percentage:.2f}%\")\n",
    "\n",
    "        if attendance_percentage >= 75:\n",
    "            print(\"The student is allowed to sit in the exam.\")\n",
    "        else:\n",
    "            medical_cause = input(\"Do you have a medical cause? (Y/N): \").strip().upper()\n",
    "            if medical_cause == 'Y':\n",
    "                print(\"The student is allowed to sit in the exam due to a medical cause.\")\n",
    "            else:\n",
    "                print(\"The student is NOT allowed to sit in the exam.\")"
   ]
  },
  {
   "cell_type": "markdown",
   "metadata": {},
   "source": [
    "16) Write a program to check if a year is leap year or not.\n",
    "\n",
    "If a year is divisible by 4 then it is leap year but if the year is century year like 2000, 1900, 2100 then it must be divisible by 400."
   ]
  },
  {
   "cell_type": "code",
   "execution_count": 144,
   "metadata": {},
   "outputs": [
    {
     "name": "stdin",
     "output_type": "stream",
     "text": [
      "Enter a year:  22\n"
     ]
    },
    {
     "name": "stdout",
     "output_type": "stream",
     "text": [
      "22 is not a leap year.\n"
     ]
    }
   ],
   "source": [
    "year = int(input(\"Enter a year: \"))\n",
    "if (year % 4 == 0 and year % 100 != 0) or (year % 400 == 0):\n",
    "    print(f\"{year} is a leap year.\")\n",
    "else:\n",
    "    print(f\"{year} is not a leap year.\")"
   ]
  },
  {
   "cell_type": "markdown",
   "metadata": {},
   "source": [
    "17) Ask user to enter age, gender ( M or F ), marital status ( Y or N ) and then using following rules print their place of service.\n",
    "\n",
    "if employee is female, then she will work only in urban areas.\n",
    "\n",
    "if employee is a male and age is in between 20 to 40 then he may work in anywhere\n",
    "\n",
    "if employee is male and age is in between 40 t0 60 then he will work in urban areas only.\n",
    "\n",
    "And any other input of age should print \"ERROR\""
   ]
  },
  {
   "cell_type": "code",
   "execution_count": 146,
   "metadata": {},
   "outputs": [
    {
     "name": "stdin",
     "output_type": "stream",
     "text": [
      "Enter your age:  55\n",
      "Enter your gender (M/F):  M\n",
      "Are you married? (Y/N):  Y\n"
     ]
    },
    {
     "name": "stdout",
     "output_type": "stream",
     "text": [
      "You will work only in urban areas.\n"
     ]
    }
   ],
   "source": [
    "age = int(input(\"Enter your age: \"))\n",
    "gender = input(\"Enter your gender (M/F): \").strip().upper()\n",
    "marital_status = input(\"Are you married? (Y/N): \").strip().upper()\n",
    "\n",
    "# Determine place of service based on the rules\n",
    "if gender == \"F\":\n",
    "    print(\"You will work only in urban areas.\")\n",
    "elif gender == \"M\":\n",
    "    if 20 <= age <= 40:\n",
    "        print(\"You may work anywhere.\")\n",
    "    elif 40 < age <= 60:\n",
    "        print(\"You will work only in urban areas.\")\n",
    "    else:\n",
    "        print(\"ERROR: Invalid age for service.\")\n",
    "else:\n",
    "    print(\"ERROR: Invalid gender input.\")\n",
    "    "
   ]
  },
  {
   "cell_type": "markdown",
   "metadata": {},
   "source": [
    "6) Write a program to calculate the electricity bill (accept number of unit from user) according to the following criteria :\n",
    "     Unit                                                     Price  \n",
    "uptp 100 units                                             no charge\n",
    "Next 200 units                                              Rs 5 per unit\n",
    "After 200 units                                             Rs 10 per unit\n",
    "(For example if input unit is 350 than total bill amount is Rs.3500\n",
    "(For example if input unit is 97 than total bill amount is Rs.0\n",
    "(For example if input unit is 150 than total bill amount is Rs.750"
   ]
  },
  {
   "cell_type": "code",
   "execution_count": 153,
   "metadata": {},
   "outputs": [
    {
     "name": "stdin",
     "output_type": "stream",
     "text": [
      "Enter the number of units consumed:  333\n"
     ]
    },
    {
     "name": "stdout",
     "output_type": "stream",
     "text": [
      "Total bill amount: Rs.1830\n"
     ]
    }
   ],
   "source": [
    "units = int(input(\"Enter the number of units consumed: \"))\n",
    "\n",
    "if units <= 100:\n",
    "    # No charge for up to 100 units\n",
    "    total_bill = 0\n",
    "elif 101 <= units <= 300:\n",
    "    # Rs 5 for each unit between 101 and 300\n",
    "    total_bill = (units - 100) * 5\n",
    "else:\n",
    "    # Rs 5 for the first 200 units above 100, and Rs 10 per unit for anything above 300\n",
    "    total_bill = (200 * 5) + (units - 300) * 10 + (100 * 5)\n",
    "\n",
    "# Print the total bill amount\n",
    "print(f\"Total bill amount: Rs.{total_bill}\")"
   ]
  },
  {
   "cell_type": "markdown",
   "metadata": {},
   "source": [
    "13) Take input of age of 3 people by user and determine oldest and youngest among them."
   ]
  },
  {
   "cell_type": "code",
   "execution_count": 155,
   "metadata": {},
   "outputs": [
    {
     "name": "stdin",
     "output_type": "stream",
     "text": [
      "Enter age of person 1:  66\n",
      "Enter age of person 2:  33\n",
      "Enter age of person 3:  22\n"
     ]
    },
    {
     "name": "stdout",
     "output_type": "stream",
     "text": [
      "The oldest person's age is: 66\n",
      "The youngest person's age is: 22\n"
     ]
    }
   ],
   "source": [
    "age1 = int(input(\"Enter age of person 1: \"))\n",
    "age2 = int(input(\"Enter age of person 2: \"))\n",
    "age3 = int(input(\"Enter age of person 3: \"))\n",
    "\n",
    "\n",
    "oldest = max(age1, age2, age3)\n",
    "youngest = min(age1, age2, age3)\n",
    "print(f\"The oldest person's age is: {oldest}\")\n",
    "print(f\"The youngest person's age is: {youngest}\")\n"
   ]
  }
 ],
 "metadata": {
  "kernelspec": {
   "display_name": "Python 3 (ipykernel)",
   "language": "python",
   "name": "python3"
  },
  "language_info": {
   "codemirror_mode": {
    "name": "ipython",
    "version": 3
   },
   "file_extension": ".py",
   "mimetype": "text/x-python",
   "name": "python",
   "nbconvert_exporter": "python",
   "pygments_lexer": "ipython3",
   "version": "3.12.7"
  }
 },
 "nbformat": 4,
 "nbformat_minor": 4
}
